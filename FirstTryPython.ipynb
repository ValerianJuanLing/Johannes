{
 "cells": [
  {
   "cell_type": "code",
   "execution_count": 1,
   "metadata": {},
   "outputs": [],
   "source": [
    "#FirstTryPython\n",
    "\n",
    "#Data Science Tools and Ecosystem\n",
    "\n",
    "#In this notebook, Data Science Tools and Ecosystem are summarized.\n",
    "\n",
    "##Some of the popular languages that Data Scientists use are:\n",
    "\n",
    "DataList = (\"R\",\"Python\",\"SQL\")\n",
    "\n",
    "##Some of the commonly used libraries used by Data Scientists include:\n",
    "\n",
    "DataLib = (\"Numpy\",\"Pandas\",\"Keras\")"
   ]
  },
  {
   "cell_type": "code",
   "execution_count": 2,
   "metadata": {},
   "outputs": [
    {
     "data": {
      "text/markdown": [
       "\n",
       "| Data Science Tools in Python |\n",
       "|-----------------------------|\n",
       "| NumPy                       |\n",
       "| Pandas                      |\n",
       "| Matplotlib                  |\n",
       "| Seaborn                     |\n",
       "| Scikit-learn                |\n",
       "| TensorFlow                  |\n",
       "| Keras                       |\n"
      ],
      "text/plain": [
       "<IPython.core.display.Markdown object>"
      ]
     },
     "metadata": {},
     "output_type": "display_data"
    }
   ],
   "source": [
    "from IPython.display import Markdown, display\n",
    "\n",
    "table = \"\"\"\n",
    "| Data Science Tools in Python |\n",
    "|-----------------------------|\n",
    "| NumPy                       |\n",
    "| Pandas                      |\n",
    "| Matplotlib                  |\n",
    "| Seaborn                     |\n",
    "| Scikit-learn                |\n",
    "| TensorFlow                  |\n",
    "| Keras                       |\n",
    "\"\"\"\n",
    "\n",
    "display(Markdown(table))"
   ]
  },
  {
   "cell_type": "code",
   "execution_count": 3,
   "metadata": {},
   "outputs": [
    {
     "data": {
      "text/plain": [
       "17"
      ]
     },
     "execution_count": 3,
     "metadata": {},
     "output_type": "execute_result"
    }
   ],
   "source": [
    "### Below are a few examples of evaluating arithmetic expressions in Python.\n",
    "\n",
    "(3*4)+5\n",
    "\n",
    "###This a simple arithmetic expression to mutiply then add integers"
   ]
  },
  {
   "cell_type": "code",
   "execution_count": 4,
   "metadata": {},
   "outputs": [
    {
     "name": "stdout",
     "output_type": "stream",
     "text": [
      "3.3333333333333335\n"
     ]
    }
   ],
   "source": [
    "###This will convert 200 minutes to hours by diving by 60\n",
    "\n",
    "minutes = 200\n",
    "hours = minutes / 60\n",
    "print(hours)"
   ]
  },
  {
   "cell_type": "code",
   "execution_count": 7,
   "metadata": {},
   "outputs": [
    {
     "name": "stdout",
     "output_type": "stream",
     "text": [
      "List popular languages for Data Science: \n",
      "('R', 'Python', 'SQL')\n"
     ]
    }
   ],
   "source": [
    "## Objectives:\n",
    "\n",
    "print(\"List popular languages for Data Science: \")\n",
    "\n",
    "DataList = (\"R\",\"Python\",\"SQL\")\n",
    "print(DataList)"
   ]
  },
  {
   "cell_type": "code",
   "execution_count": 8,
   "metadata": {},
   "outputs": [
    {
     "ename": "SyntaxError",
     "evalue": "invalid syntax (<ipython-input-8-071826e3b651>, line 3)",
     "output_type": "error",
     "traceback": [
      "\u001b[0;36m  File \u001b[0;32m\"<ipython-input-8-071826e3b651>\"\u001b[0;36m, line \u001b[0;32m3\u001b[0m\n\u001b[0;31m    Feihong Ling\u001b[0m\n\u001b[0m            ^\u001b[0m\n\u001b[0;31mSyntaxError\u001b[0m\u001b[0;31m:\u001b[0m invalid syntax\n"
     ]
    }
   ],
   "source": [
    "## Author\n",
    "\n",
    "Feihong Ling\n"
   ]
  },
  {
   "cell_type": "code",
   "execution_count": null,
   "metadata": {},
   "outputs": [],
   "source": []
  }
 ],
 "metadata": {
  "kernelspec": {
   "display_name": "Python 3",
   "language": "python",
   "name": "python3"
  },
  "language_info": {
   "codemirror_mode": {
    "name": "ipython",
    "version": 3
   },
   "file_extension": ".py",
   "mimetype": "text/x-python",
   "name": "python",
   "nbconvert_exporter": "python",
   "pygments_lexer": "ipython3",
   "version": "3.8.5"
  }
 },
 "nbformat": 4,
 "nbformat_minor": 4
}
